{
 "cells": [
  {
   "cell_type": "markdown",
   "metadata": {},
   "source": [
    "# Kaggle Challenge\n",
    "## Santander Value Prediction Challenge\n",
    "### Predict the value of transactions for potential customers.\n",
    "#### https://www.kaggle.com/c/santander-value-prediction-challenge/data"
   ]
  },
  {
   "cell_type": "code",
   "execution_count": 65,
   "metadata": {},
   "outputs": [],
   "source": [
    "# Import Statements\n",
    "from sklearn.ensemble import AdaBoostRegressor\n",
    "from sklearn.ensemble import RandomForestRegressor\n",
    "from lightgbm import LGBMRegressor\n",
    "from xgboost import XGBRegressor\n",
    "import numpy as np\n",
    "import pandas as pd\n",
    "import os"
   ]
  },
  {
   "cell_type": "code",
   "execution_count": 3,
   "metadata": {},
   "outputs": [],
   "source": [
    "if not os.path.isdir(\"output\"):\n",
    "    os.mkdir(\"output\")"
   ]
  },
  {
   "cell_type": "code",
   "execution_count": 4,
   "metadata": {},
   "outputs": [],
   "source": [
    "def rmsle(actual, predicted):\n",
    "    assert actual.shape == predicted.shape\n",
    "    return np.sqrt(np.sum(np.square(np.log(actual + 1) - np.log(predicted + 1)), axis=0) / actual.shape[0])"
   ]
  },
  {
   "cell_type": "code",
   "execution_count": 5,
   "metadata": {},
   "outputs": [],
   "source": [
    "def save(id_col, prediction, filename):\n",
    "    assert id_col.shape == prediction.shape\n",
    "    dump = np.asarray(np.transpose(np.vstack((id_col, prediction))))\n",
    "    np.savetxt(\"output/%s\" % (filename), dump, delimiter=',', fmt=\"%s\", header=\"ID,target\", comments=\"\")"
   ]
  },
  {
   "cell_type": "code",
   "execution_count": 56,
   "metadata": {},
   "outputs": [
    {
     "name": "stdout",
     "output_type": "stream",
     "text": [
      "Train Dimensions:  (4459, 4993)\n",
      "Test Dimensions:  (49342, 4992)\n"
     ]
    }
   ],
   "source": [
    "# Data\n",
    "train = pd.read_csv(\"data/train.csv\")\n",
    "print(\"Train Dimensions: \", train.shape)\n",
    "\n",
    "test = pd.read_csv(\"data/test.csv\")\n",
    "print(\"Test Dimensions: \", test.shape)"
   ]
  },
  {
   "cell_type": "markdown",
   "metadata": {},
   "source": [
    "#### Data Manipulation"
   ]
  },
  {
   "cell_type": "code",
   "execution_count": 53,
   "metadata": {},
   "outputs": [
    {
     "data": {
      "text/html": [
       "<div>\n",
       "<style scoped>\n",
       "    .dataframe tbody tr th:only-of-type {\n",
       "        vertical-align: middle;\n",
       "    }\n",
       "\n",
       "    .dataframe tbody tr th {\n",
       "        vertical-align: top;\n",
       "    }\n",
       "\n",
       "    .dataframe thead th {\n",
       "        text-align: right;\n",
       "    }\n",
       "</style>\n",
       "<table border=\"1\" class=\"dataframe\">\n",
       "  <thead>\n",
       "    <tr style=\"text-align: right;\">\n",
       "      <th></th>\n",
       "      <th>ID</th>\n",
       "      <th>target</th>\n",
       "      <th>48df886f9</th>\n",
       "      <th>0deb4b6a8</th>\n",
       "      <th>34b15f335</th>\n",
       "      <th>a8cb14b00</th>\n",
       "      <th>2f0771a37</th>\n",
       "      <th>30347e683</th>\n",
       "      <th>d08d1fbe3</th>\n",
       "      <th>6ee66e115</th>\n",
       "      <th>...</th>\n",
       "      <th>3ecc09859</th>\n",
       "      <th>9281abeea</th>\n",
       "      <th>8675bec0b</th>\n",
       "      <th>3a13ed79a</th>\n",
       "      <th>f677d4d13</th>\n",
       "      <th>71b203550</th>\n",
       "      <th>137efaa80</th>\n",
       "      <th>fb36b89d9</th>\n",
       "      <th>7e293fbaf</th>\n",
       "      <th>9fc776466</th>\n",
       "    </tr>\n",
       "  </thead>\n",
       "  <tbody>\n",
       "    <tr>\n",
       "      <th>0</th>\n",
       "      <td>000d6aaf2</td>\n",
       "      <td>38000000.0</td>\n",
       "      <td>0.0</td>\n",
       "      <td>0</td>\n",
       "      <td>0.0</td>\n",
       "      <td>0</td>\n",
       "      <td>0</td>\n",
       "      <td>0</td>\n",
       "      <td>0</td>\n",
       "      <td>0</td>\n",
       "      <td>...</td>\n",
       "      <td>0.0</td>\n",
       "      <td>0.0</td>\n",
       "      <td>0.0</td>\n",
       "      <td>0</td>\n",
       "      <td>0</td>\n",
       "      <td>0</td>\n",
       "      <td>0</td>\n",
       "      <td>0</td>\n",
       "      <td>0</td>\n",
       "      <td>0</td>\n",
       "    </tr>\n",
       "    <tr>\n",
       "      <th>1</th>\n",
       "      <td>000fbd867</td>\n",
       "      <td>600000.0</td>\n",
       "      <td>0.0</td>\n",
       "      <td>0</td>\n",
       "      <td>0.0</td>\n",
       "      <td>0</td>\n",
       "      <td>0</td>\n",
       "      <td>0</td>\n",
       "      <td>0</td>\n",
       "      <td>0</td>\n",
       "      <td>...</td>\n",
       "      <td>0.0</td>\n",
       "      <td>0.0</td>\n",
       "      <td>0.0</td>\n",
       "      <td>0</td>\n",
       "      <td>0</td>\n",
       "      <td>0</td>\n",
       "      <td>0</td>\n",
       "      <td>0</td>\n",
       "      <td>0</td>\n",
       "      <td>0</td>\n",
       "    </tr>\n",
       "    <tr>\n",
       "      <th>2</th>\n",
       "      <td>0027d6b71</td>\n",
       "      <td>10000000.0</td>\n",
       "      <td>0.0</td>\n",
       "      <td>0</td>\n",
       "      <td>0.0</td>\n",
       "      <td>0</td>\n",
       "      <td>0</td>\n",
       "      <td>0</td>\n",
       "      <td>0</td>\n",
       "      <td>0</td>\n",
       "      <td>...</td>\n",
       "      <td>0.0</td>\n",
       "      <td>0.0</td>\n",
       "      <td>0.0</td>\n",
       "      <td>0</td>\n",
       "      <td>0</td>\n",
       "      <td>0</td>\n",
       "      <td>0</td>\n",
       "      <td>0</td>\n",
       "      <td>0</td>\n",
       "      <td>0</td>\n",
       "    </tr>\n",
       "    <tr>\n",
       "      <th>3</th>\n",
       "      <td>0028cbf45</td>\n",
       "      <td>2000000.0</td>\n",
       "      <td>0.0</td>\n",
       "      <td>0</td>\n",
       "      <td>0.0</td>\n",
       "      <td>0</td>\n",
       "      <td>0</td>\n",
       "      <td>0</td>\n",
       "      <td>0</td>\n",
       "      <td>0</td>\n",
       "      <td>...</td>\n",
       "      <td>0.0</td>\n",
       "      <td>0.0</td>\n",
       "      <td>0.0</td>\n",
       "      <td>0</td>\n",
       "      <td>0</td>\n",
       "      <td>0</td>\n",
       "      <td>0</td>\n",
       "      <td>0</td>\n",
       "      <td>0</td>\n",
       "      <td>0</td>\n",
       "    </tr>\n",
       "    <tr>\n",
       "      <th>4</th>\n",
       "      <td>002a68644</td>\n",
       "      <td>14400000.0</td>\n",
       "      <td>0.0</td>\n",
       "      <td>0</td>\n",
       "      <td>0.0</td>\n",
       "      <td>0</td>\n",
       "      <td>0</td>\n",
       "      <td>0</td>\n",
       "      <td>0</td>\n",
       "      <td>0</td>\n",
       "      <td>...</td>\n",
       "      <td>0.0</td>\n",
       "      <td>0.0</td>\n",
       "      <td>0.0</td>\n",
       "      <td>0</td>\n",
       "      <td>0</td>\n",
       "      <td>0</td>\n",
       "      <td>0</td>\n",
       "      <td>0</td>\n",
       "      <td>0</td>\n",
       "      <td>0</td>\n",
       "    </tr>\n",
       "  </tbody>\n",
       "</table>\n",
       "<p>5 rows × 4993 columns</p>\n",
       "</div>"
      ],
      "text/plain": [
       "          ID      target  48df886f9  0deb4b6a8  34b15f335  a8cb14b00  \\\n",
       "0  000d6aaf2  38000000.0        0.0          0        0.0          0   \n",
       "1  000fbd867    600000.0        0.0          0        0.0          0   \n",
       "2  0027d6b71  10000000.0        0.0          0        0.0          0   \n",
       "3  0028cbf45   2000000.0        0.0          0        0.0          0   \n",
       "4  002a68644  14400000.0        0.0          0        0.0          0   \n",
       "\n",
       "   2f0771a37  30347e683  d08d1fbe3  6ee66e115    ...      3ecc09859  \\\n",
       "0          0          0          0          0    ...            0.0   \n",
       "1          0          0          0          0    ...            0.0   \n",
       "2          0          0          0          0    ...            0.0   \n",
       "3          0          0          0          0    ...            0.0   \n",
       "4          0          0          0          0    ...            0.0   \n",
       "\n",
       "   9281abeea  8675bec0b  3a13ed79a  f677d4d13  71b203550  137efaa80  \\\n",
       "0        0.0        0.0          0          0          0          0   \n",
       "1        0.0        0.0          0          0          0          0   \n",
       "2        0.0        0.0          0          0          0          0   \n",
       "3        0.0        0.0          0          0          0          0   \n",
       "4        0.0        0.0          0          0          0          0   \n",
       "\n",
       "   fb36b89d9  7e293fbaf  9fc776466  \n",
       "0          0          0          0  \n",
       "1          0          0          0  \n",
       "2          0          0          0  \n",
       "3          0          0          0  \n",
       "4          0          0          0  \n",
       "\n",
       "[5 rows x 4993 columns]"
      ]
     },
     "execution_count": 53,
     "metadata": {},
     "output_type": "execute_result"
    }
   ],
   "source": [
    "train.describe()"
   ]
  },
  {
   "cell_type": "code",
   "execution_count": 7,
   "metadata": {
    "scrolled": true
   },
   "outputs": [
    {
     "data": {
      "text/plain": [
       "9fc776466    0\n",
       "083640132    0\n",
       "26e2c24e3    0\n",
       "c3726f249    0\n",
       "a682ef110    0\n",
       "b452ba57e    0\n",
       "08448215c    0\n",
       "fee2d3bf9    0\n",
       "c2d200f0e    0\n",
       "f0aa40974    0\n",
       "51cab733f    0\n",
       "7af000ac2    0\n",
       "1930cefda    0\n",
       "6dae32858    0\n",
       "c5aa7c575    0\n",
       "225fa9d61    0\n",
       "9f69ae59f    0\n",
       "78c57d7cd    0\n",
       "2af3668d1    0\n",
       "293e2698e    0\n",
       "020a817ab    0\n",
       "197cb48af    0\n",
       "2dfea2ff3    0\n",
       "53a550111    0\n",
       "de7063efa    0\n",
       "f52409b3e    0\n",
       "d0f65188c    0\n",
       "65119177e    0\n",
       "2d60e2f7a    0\n",
       "58ad51def    0\n",
       "            ..\n",
       "b87e3036b    0\n",
       "1af96abeb    0\n",
       "875ad1c4a    0\n",
       "22eb11620    0\n",
       "30992dccd    0\n",
       "a3c187bb0    0\n",
       "adf03173b    0\n",
       "33ed23348    0\n",
       "6bf90e4f5    0\n",
       "b0fcfeab8    0\n",
       "ea3f3029c    0\n",
       "adbe5fd20    0\n",
       "21b0cdc34    0\n",
       "7f0d863ba    0\n",
       "9847e14d8    0\n",
       "98d0d2971    0\n",
       "4ceef6dbd    0\n",
       "346e3d609    0\n",
       "fbd6e0a0b    0\n",
       "69831c049    0\n",
       "8c8616b62    0\n",
       "007d71f12    0\n",
       "f1e0ada11    0\n",
       "99fc30923    0\n",
       "4d3fb93d9    0\n",
       "8e978ee65    0\n",
       "c30399758    0\n",
       "e70581bed    0\n",
       "b22eb2036    0\n",
       "ID           0\n",
       "Length: 4993, dtype: int64"
      ]
     },
     "execution_count": 7,
     "metadata": {},
     "output_type": "execute_result"
    }
   ],
   "source": [
    "# Check if any missing values\n",
    "train.isnull().sum().sort_values(ascending=False) # No missing values"
   ]
  },
  {
   "cell_type": "code",
   "execution_count": 22,
   "metadata": {
    "scrolled": true
   },
   "outputs": [
    {
     "name": "stdout",
     "output_type": "stream",
     "text": [
      "(256,)\n",
      "Index(['d9a8615f3', 'a3d5c2c2a', '1bd3a4e92', '611d81daa', 'da35e792b',\n",
      "       '6d07828ca', '3d7780b1c', '96eb14eaf', '113fd0206', '754c502dd',\n",
      "       ...\n",
      "       '00fcf67e4', 'b281a62b9', '6c16efbb8', '643e42fcb', '217cd3838',\n",
      "       '047ebc242', '6fa0b9dab', 'e5649663e', 'ae846f332', '64d036163'],\n",
      "      dtype='object', length=256)\n"
     ]
    }
   ],
   "source": [
    "# Since most columns have several zeros, check variance.\n",
    "train_var = train.var().sort_values()\n",
    "train_0_var_feat = train_var[train_var == 0] # get columns that have zero variance\n",
    "print(train_0_var_feat.shape) # there are 256 columns that have zero variance\n",
    "drop_cols = train_0_var_feat.keys() # get those zero variance columns\n",
    "print(drop_cols)"
   ]
  },
  {
   "cell_type": "code",
   "execution_count": 57,
   "metadata": {},
   "outputs": [
    {
     "name": "stdout",
     "output_type": "stream",
     "text": [
      "(4459, 633)\n",
      "(49342, 632)\n"
     ]
    }
   ],
   "source": [
    "# Drop features\n",
    "train_drop_id = train.drop(\"ID\", axis=1) # drop ID columns\n",
    "train_drop = train_drop_id.drop(drop_cols, axis=1) # drop zero variance columns\n",
    "print(train_drop.shape)\n",
    "\n",
    "x_test_drop_id = test.drop(\"ID\", axis=1)\n",
    "x_test_drop = x_test_drop_id.drop(drop_cols, axis=1)\n",
    "print(x_test_drop.shape)"
   ]
  },
  {
   "cell_type": "code",
   "execution_count": 58,
   "metadata": {},
   "outputs": [
    {
     "name": "stdout",
     "output_type": "stream",
     "text": [
      "(4459, 632)\n"
     ]
    }
   ],
   "source": [
    "# Split into x and y\n",
    "y_train = train_drop[\"target\"]\n",
    "train_drop_tar = train_drop.drop(\"target\", axis=1)\n",
    "print(train_drop_tar.shape)"
   ]
  },
  {
   "cell_type": "code",
   "execution_count": 27,
   "metadata": {},
   "outputs": [
    {
     "name": "stdout",
     "output_type": "stream",
     "text": [
      "Index(['3d390e8b9', 'cde9c35e8', 'f8d75792f', 'aa2e796b4', '969d32625',\n",
      "       '8225f7e05', '71b637714', '6e598606d', '1530f6138', '29714c47d',\n",
      "       ...\n",
      "       '2b2b5187e', '11114a47a', '41bc25fef', '2cff4bf0c', 'cfe749e26',\n",
      "       'bf59c51c3', '7b672b310', '9886b4d22', 'a3382e205', '009319104'],\n",
      "      dtype='object', length=4359)\n"
     ]
    }
   ],
   "source": [
    "# Compute proportion of zeros in each features\n",
    "train_0_prop_feat = (train_drop_tar == 0).astype(int).sum(axis=0).sort_values(ascending=False) / train_drop_tar.shape[0]\n",
    "drop_cols = train_0_prop_feat[train_0_prop_feat > 0.9].keys()\n",
    "print(drop_cols)"
   ]
  },
  {
   "cell_type": "code",
   "execution_count": 29,
   "metadata": {},
   "outputs": [
    {
     "name": "stdout",
     "output_type": "stream",
     "text": [
      "(4459, 376)\n",
      "(49342, 376)\n"
     ]
    }
   ],
   "source": [
    "# Drop features\n",
    "train_drop_2 = train_drop_tar.drop(drop_cols, axis=1)\n",
    "print(train_drop_2.shape)\n",
    "\n",
    "x_test_drop_2 = x_test_drop.drop(drop_cols, axis=1)\n",
    "print(x_test_drop_2.shape)"
   ]
  },
  {
   "cell_type": "code",
   "execution_count": 38,
   "metadata": {},
   "outputs": [],
   "source": [
    "# Since almost every column has high range, take logarithm.\n",
    "train_drop_log = np.log(train_drop_2 + 1)\n",
    "x_test_drop_log = np.log(x_test_drop_2 + 1)\n",
    "# train_drop_log.describe()"
   ]
  },
  {
   "cell_type": "code",
   "execution_count": 41,
   "metadata": {},
   "outputs": [],
   "source": [
    "# Split dataset\n",
    "x_train = train_drop_log\n",
    "x_test = x_test_drop_log"
   ]
  },
  {
   "cell_type": "markdown",
   "metadata": {},
   "source": [
    "#### Machine Learning Models"
   ]
  },
  {
   "cell_type": "markdown",
   "metadata": {},
   "source": [
    "##### Random Forest"
   ]
  },
  {
   "cell_type": "code",
   "execution_count": 51,
   "metadata": {},
   "outputs": [
    {
     "name": "stdout",
     "output_type": "stream",
     "text": [
      "Training RMSLE:  1.0601824414406409\n"
     ]
    }
   ],
   "source": [
    "rf = RandomForestRegressor()\n",
    "rf.fit(x_train, y_train)\n",
    "print(\"Training RMSLE: \", rmsle(y_train, rf.predict(x_train)))\n",
    "y_predict = rf.predict(x_test)\n",
    "save(test[\"ID\"], y_predict, \"asc.csv\")"
   ]
  },
  {
   "cell_type": "markdown",
   "metadata": {},
   "source": [
    "##### AdaBoost"
   ]
  },
  {
   "cell_type": "code",
   "execution_count": 82,
   "metadata": {},
   "outputs": [
    {
     "name": "stdout",
     "output_type": "stream",
     "text": [
      "Training RMSLE:  2.680091864163244\n"
     ]
    }
   ],
   "source": [
    "ada = AdaBoostRegressor()\n",
    "ada.fit(x_train, y_train)\n",
    "print(\"Training RMSLE: \", rmsle(y_train, ada.predict(x_train)))\n",
    "y_predict = ada.predict(x_test)\n",
    "save(test[\"ID\"], y_predict, \"ada_1.csv\") # 2.68"
   ]
  },
  {
   "cell_type": "markdown",
   "metadata": {},
   "source": [
    "##### XGBoost"
   ]
  },
  {
   "cell_type": "code",
   "execution_count": 9,
   "metadata": {},
   "outputs": [
    {
     "name": "stdout",
     "output_type": "stream",
     "text": [
      "Training RMSLE:  1.8393296647239583\n"
     ]
    }
   ],
   "source": [
    "xgb = XGBRegressor()\n",
    "xgb.fit(x_train, y_train)\n",
    "print(\"Training RMSLE: \", rmsle(y_train, xgb.predict(x_train)))\n",
    "y_predict = xgb.predict(x_test)\n",
    "save(test[\"ID\"], y_predict, \"xgb_1.csv\") # 1.91"
   ]
  },
  {
   "cell_type": "markdown",
   "metadata": {},
   "source": [
    "##### Light GBM"
   ]
  },
  {
   "cell_type": "code",
   "execution_count": 19,
   "metadata": {},
   "outputs": [
    {
     "name": "stderr",
     "output_type": "stream",
     "text": [
      "C:\\Users\\ajay2\\Anaconda3\\lib\\site-packages\\ipykernel_launcher.py:3: RuntimeWarning: invalid value encountered in log\n",
      "  This is separate from the ipykernel package so we can avoid doing imports until\n"
     ]
    },
    {
     "name": "stdout",
     "output_type": "stream",
     "text": [
      "Training RMSLE:  1.4119796674962117\n"
     ]
    }
   ],
   "source": [
    "lgbm = LGBMRegressor()\n",
    "lgbm.fit(x_train, y_train)\n",
    "print(\"Training RMSLE: \", rmsle(y_train, lgbm.predict(x_train))) # 1.41 for default, 1.9 for lr=0.01\n",
    "y_predict = lgbm.predict(x_test)\n",
    "save(test[\"ID\"], y_predict, \"lgbm_1.csv\") # 1.91"
   ]
  },
  {
   "cell_type": "code",
   "execution_count": null,
   "metadata": {},
   "outputs": [],
   "source": []
  }
 ],
 "metadata": {
  "kernelspec": {
   "display_name": "Python 3",
   "language": "python",
   "name": "python3"
  },
  "language_info": {
   "codemirror_mode": {
    "name": "ipython",
    "version": 3
   },
   "file_extension": ".py",
   "mimetype": "text/x-python",
   "name": "python",
   "nbconvert_exporter": "python",
   "pygments_lexer": "ipython3",
   "version": "3.6.5"
  }
 },
 "nbformat": 4,
 "nbformat_minor": 2
}
