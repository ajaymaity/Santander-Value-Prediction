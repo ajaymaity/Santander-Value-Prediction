{
 "cells": [
  {
   "cell_type": "markdown",
   "metadata": {},
   "source": [
    "# Kaggle Challenge\n",
    "## Santander Value Prediction Challenge\n",
    "### Predict the value of transactions for potential customers.\n",
    "#### https://www.kaggle.com/c/santander-value-prediction-challenge/data"
   ]
  },
  {
   "cell_type": "code",
   "execution_count": 14,
   "metadata": {},
   "outputs": [],
   "source": [
    "# Import Statements\n",
    "from sklearn.ensemble import AdaBoostRegressor\n",
    "from sklearn.ensemble import RandomForestRegressor\n",
    "from lightgbm import LGBMRegressor\n",
    "from xgboost import XGBRegressor\n",
    "import numpy as np\n",
    "import pandas as pd\n",
    "import os"
   ]
  },
  {
   "cell_type": "code",
   "execution_count": null,
   "metadata": {},
   "outputs": [],
   "source": [
    "if not os.path.isdir(\"output\"):\n",
    "    os.mkdir(\"output\")"
   ]
  },
  {
   "cell_type": "code",
   "execution_count": 15,
   "metadata": {},
   "outputs": [],
   "source": [
    "def rmsle(actual, predicted):\n",
    "    assert actual.shape == predicted.shape\n",
    "    return np.sqrt(np.sum(np.square(np.log(actual + 1) - np.log(predicted + 1)), axis=0) / actual.shape[0])"
   ]
  },
  {
   "cell_type": "code",
   "execution_count": 16,
   "metadata": {},
   "outputs": [],
   "source": [
    "def save(id_col, prediction, filename):\n",
    "    assert id_col.shape == prediction.shape\n",
    "    dump = np.asarray(np.transpose(np.vstack((id_col, prediction))))\n",
    "    np.savetxt(\"output/%s\" % (filename), dump, delimiter=',', fmt=\"%s\", header=\"ID,target\", comments=\"\")"
   ]
  },
  {
   "cell_type": "code",
   "execution_count": 17,
   "metadata": {},
   "outputs": [
    {
     "name": "stdout",
     "output_type": "stream",
     "text": [
      "Train Dimensions:  (4459, 4993)\n",
      "Test Dimensions:  (49342, 4992)\n"
     ]
    }
   ],
   "source": [
    "# Data\n",
    "train = pd.read_csv(\"data/train.csv\")\n",
    "print(\"Train Dimensions: \", train.shape)\n",
    "\n",
    "test = pd.read_csv(\"data/test.csv\")\n",
    "print(\"Test Dimensions: \", test.shape)"
   ]
  },
  {
   "cell_type": "markdown",
   "metadata": {},
   "source": [
    "#### Data Manipulation"
   ]
  },
  {
   "cell_type": "code",
   "execution_count": 18,
   "metadata": {},
   "outputs": [],
   "source": [
    "train.drop(\"ID\", axis=1, inplace=True)\n",
    "x_train = train.drop(\"target\", axis=1)\n",
    "y_train = train[\"target\"]\n",
    "\n",
    "x_test = test.drop(\"ID\", axis=1)"
   ]
  },
  {
   "cell_type": "markdown",
   "metadata": {},
   "source": [
    "#### Machine Learning Models"
   ]
  },
  {
   "cell_type": "markdown",
   "metadata": {},
   "source": [
    "##### Random Forest"
   ]
  },
  {
   "cell_type": "code",
   "execution_count": 28,
   "metadata": {},
   "outputs": [
    {
     "name": "stdout",
     "output_type": "stream",
     "text": [
      "Training RMSLE:  1.0104716969109326\n"
     ]
    }
   ],
   "source": [
    "rf = RandomForestRegressor(n_estimators=5)\n",
    "rf.fit(x_train, y_train)\n",
    "print(\"Training RMSLE: \", rmsle(y_train, rf.predict(x_train))) # 1.034 for default, 1.08 for n_estimators=20, 1.02 for n_estimators=5, 1.038 for n_estimators=3,4\n",
    "y_predict = rf.predict(x_test)\n",
    "save(test[\"ID\"], y_predict, \"rf_5_n_est_4.csv\") # 1.74 for default"
   ]
  },
  {
   "cell_type": "markdown",
   "metadata": {},
   "source": [
    "##### AdaBoost"
   ]
  },
  {
   "cell_type": "code",
   "execution_count": 82,
   "metadata": {},
   "outputs": [
    {
     "name": "stdout",
     "output_type": "stream",
     "text": [
      "Training RMSLE:  2.680091864163244\n"
     ]
    }
   ],
   "source": [
    "ada = AdaBoostRegressor()\n",
    "ada.fit(x_train, y_train)\n",
    "print(\"Training RMSLE: \", rmsle(y_train, ada.predict(x_train)))\n",
    "y_predict = ada.predict(x_test)\n",
    "save(test[\"ID\"], y_predict, \"ada_1.csv\") # 2.68"
   ]
  },
  {
   "cell_type": "markdown",
   "metadata": {},
   "source": [
    "##### XGBoost"
   ]
  },
  {
   "cell_type": "code",
   "execution_count": 9,
   "metadata": {},
   "outputs": [
    {
     "name": "stdout",
     "output_type": "stream",
     "text": [
      "Training RMSLE:  1.8393296647239583\n"
     ]
    }
   ],
   "source": [
    "xgb = XGBRegressor()\n",
    "xgb.fit(x_train, y_train)\n",
    "print(\"Training RMSLE: \", rmsle(y_train, xgb.predict(x_train)))\n",
    "y_predict = xgb.predict(x_test)\n",
    "save(test[\"ID\"], y_predict, \"xgb_1.csv\") # 1.91"
   ]
  },
  {
   "cell_type": "markdown",
   "metadata": {},
   "source": [
    "##### Light GBM"
   ]
  },
  {
   "cell_type": "code",
   "execution_count": 19,
   "metadata": {},
   "outputs": [
    {
     "name": "stderr",
     "output_type": "stream",
     "text": [
      "C:\\Users\\ajay2\\Anaconda3\\lib\\site-packages\\ipykernel_launcher.py:3: RuntimeWarning: invalid value encountered in log\n",
      "  This is separate from the ipykernel package so we can avoid doing imports until\n"
     ]
    },
    {
     "name": "stdout",
     "output_type": "stream",
     "text": [
      "Training RMSLE:  1.4119796674962117\n"
     ]
    }
   ],
   "source": [
    "lgbm = LGBMRegressor()\n",
    "lgbm.fit(x_train, y_train)\n",
    "print(\"Training RMSLE: \", rmsle(y_train, lgbm.predict(x_train))) # 1.41 for default, 1.9 for lr=0.01\n",
    "y_predict = lgbm.predict(x_test)\n",
    "save(test[\"ID\"], y_predict, \"lgbm_1.csv\") # 1.91"
   ]
  },
  {
   "cell_type": "code",
   "execution_count": null,
   "metadata": {},
   "outputs": [],
   "source": []
  }
 ],
 "metadata": {
  "kernelspec": {
   "display_name": "Python 3",
   "language": "python",
   "name": "python3"
  },
  "language_info": {
   "codemirror_mode": {
    "name": "ipython",
    "version": 3
   },
   "file_extension": ".py",
   "mimetype": "text/x-python",
   "name": "python",
   "nbconvert_exporter": "python",
   "pygments_lexer": "ipython3",
   "version": "3.6.5"
  }
 },
 "nbformat": 4,
 "nbformat_minor": 2
}
